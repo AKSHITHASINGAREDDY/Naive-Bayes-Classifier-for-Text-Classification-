{
 "cells": [
  {
   "cell_type": "markdown",
   "metadata": {},
   "source": [
    "## Naive Bayes Classifier From Scratch on Text Classification"
   ]
  },
  {
   "cell_type": "code",
   "execution_count": 373,
   "metadata": {},
   "outputs": [
    {
     "data": {
      "text/html": [
       "<div>\n",
       "<style scoped>\n",
       "    .dataframe tbody tr th:only-of-type {\n",
       "        vertical-align: middle;\n",
       "    }\n",
       "\n",
       "    .dataframe tbody tr th {\n",
       "        vertical-align: top;\n",
       "    }\n",
       "\n",
       "    .dataframe thead th {\n",
       "        text-align: right;\n",
       "    }\n",
       "</style>\n",
       "<table border=\"1\" class=\"dataframe\">\n",
       "  <thead>\n",
       "    <tr style=\"text-align: right;\">\n",
       "      <th></th>\n",
       "      <th>Sentence_id</th>\n",
       "      <th>New_Sentence</th>\n",
       "      <th>Type</th>\n",
       "    </tr>\n",
       "  </thead>\n",
       "  <tbody>\n",
       "    <tr>\n",
       "      <th>0</th>\n",
       "      <td>GERRES15609</td>\n",
       "      <td>Author and/or Review architecture/design and o...</td>\n",
       "      <td>Responsibility</td>\n",
       "    </tr>\n",
       "    <tr>\n",
       "      <th>1</th>\n",
       "      <td>PHERES15784</td>\n",
       "      <td>Should be able to develop custom dynamic shape...</td>\n",
       "      <td>Responsibility</td>\n",
       "    </tr>\n",
       "    <tr>\n",
       "      <th>2</th>\n",
       "      <td>GERREQ10457</td>\n",
       "      <td>Experience in working crosslly with a  larger ...</td>\n",
       "      <td>Requirement</td>\n",
       "    </tr>\n",
       "    <tr>\n",
       "      <th>3</th>\n",
       "      <td>GERSKL27235</td>\n",
       "      <td>Previous business experience, including but no...</td>\n",
       "      <td>Skill</td>\n",
       "    </tr>\n",
       "    <tr>\n",
       "      <th>4</th>\n",
       "      <td>HONSSK18415</td>\n",
       "      <td>Delivering fast and right the first  time.</td>\n",
       "      <td>SoftSkill</td>\n",
       "    </tr>\n",
       "  </tbody>\n",
       "</table>\n",
       "</div>"
      ],
      "text/plain": [
       "   Sentence_id                                       New_Sentence  \\\n",
       "0  GERRES15609  Author and/or Review architecture/design and o...   \n",
       "1  PHERES15784  Should be able to develop custom dynamic shape...   \n",
       "2  GERREQ10457  Experience in working crosslly with a  larger ...   \n",
       "3  GERSKL27235  Previous business experience, including but no...   \n",
       "4  HONSSK18415         Delivering fast and right the first  time.   \n",
       "\n",
       "             Type  \n",
       "0  Responsibility  \n",
       "1  Responsibility  \n",
       "2     Requirement  \n",
       "3           Skill  \n",
       "4       SoftSkill  "
      ]
     },
     "execution_count": 373,
     "metadata": {},
     "output_type": "execute_result"
    }
   ],
   "source": [
    "#load the data\n",
    "\n",
    "import pandas as pd\n",
    "df=pd.read_csv('train_data.csv',index_col=0)\n",
    "df.head()"
   ]
  },
  {
   "cell_type": "code",
   "execution_count": 374,
   "metadata": {},
   "outputs": [
    {
     "data": {
      "text/plain": [
       "New_Sentence    1113\n",
       "Type               0\n",
       "dtype: int64"
      ]
     },
     "execution_count": 374,
     "metadata": {},
     "output_type": "execute_result"
    }
   ],
   "source": [
    "#drop Sentence_id\n",
    "df.drop('Sentence_id',axis=1,inplace=True)\n",
    "\n",
    "#check for null values\n",
    "df.isnull().sum()"
   ]
  },
  {
   "cell_type": "code",
   "execution_count": 375,
   "metadata": {},
   "outputs": [],
   "source": [
    "#drop null values\n",
    "\n",
    "df.dropna(inplace=True)"
   ]
  },
  {
   "cell_type": "code",
   "execution_count": 376,
   "metadata": {},
   "outputs": [
    {
     "name": "stdout",
     "output_type": "stream",
     "text": [
      "Number of samples after dropping null values:  59002\n"
     ]
    }
   ],
   "source": [
    "print(\"Number of samples after dropping null values: \",df.shape[0])"
   ]
  },
  {
   "cell_type": "code",
   "execution_count": 377,
   "metadata": {},
   "outputs": [],
   "source": [
    "#randomly select 20% of the data as test data\n",
    "\n",
    "test=df.sample(frac=0.2)\n",
    "\n",
    "#drop the test data from the train data\n",
    "\n",
    "train_df=df.drop(test.index)\n"
   ]
  },
  {
   "cell_type": "code",
   "execution_count": 378,
   "metadata": {},
   "outputs": [
    {
     "name": "stdout",
     "output_type": "stream",
     "text": [
      "Number of samples in the train data:  59002\n",
      "Number of samples in the test data:  11800\n"
     ]
    }
   ],
   "source": [
    "print(\"Number of samples in the train data: \",df.shape[0])\n",
    "print(\"Number of samples in the test data: \",test.shape[0])"
   ]
  },
  {
   "cell_type": "code",
   "execution_count": 379,
   "metadata": {},
   "outputs": [
    {
     "data": {
      "text/html": [
       "<div>\n",
       "<style scoped>\n",
       "    .dataframe tbody tr th:only-of-type {\n",
       "        vertical-align: middle;\n",
       "    }\n",
       "\n",
       "    .dataframe tbody tr th {\n",
       "        vertical-align: top;\n",
       "    }\n",
       "\n",
       "    .dataframe thead th {\n",
       "        text-align: right;\n",
       "    }\n",
       "</style>\n",
       "<table border=\"1\" class=\"dataframe\">\n",
       "  <thead>\n",
       "    <tr style=\"text-align: right;\">\n",
       "      <th></th>\n",
       "      <th>New_Sentence</th>\n",
       "      <th>Type</th>\n",
       "    </tr>\n",
       "  </thead>\n",
       "  <tbody>\n",
       "    <tr>\n",
       "      <th>0</th>\n",
       "      <td>Author and/or Review architecture/design and o...</td>\n",
       "      <td>Responsibility</td>\n",
       "    </tr>\n",
       "    <tr>\n",
       "      <th>1</th>\n",
       "      <td>Should be able to develop custom dynamic shape...</td>\n",
       "      <td>Responsibility</td>\n",
       "    </tr>\n",
       "    <tr>\n",
       "      <th>2</th>\n",
       "      <td>Experience in working crosslly with a  larger ...</td>\n",
       "      <td>Requirement</td>\n",
       "    </tr>\n",
       "    <tr>\n",
       "      <th>3</th>\n",
       "      <td>Previous business experience, including but no...</td>\n",
       "      <td>Skill</td>\n",
       "    </tr>\n",
       "    <tr>\n",
       "      <th>4</th>\n",
       "      <td>Delivering fast and right the first  time.</td>\n",
       "      <td>SoftSkill</td>\n",
       "    </tr>\n",
       "  </tbody>\n",
       "</table>\n",
       "</div>"
      ],
      "text/plain": [
       "                                        New_Sentence            Type\n",
       "0  Author and/or Review architecture/design and o...  Responsibility\n",
       "1  Should be able to develop custom dynamic shape...  Responsibility\n",
       "2  Experience in working crosslly with a  larger ...     Requirement\n",
       "3  Previous business experience, including but no...           Skill\n",
       "4         Delivering fast and right the first  time.       SoftSkill"
      ]
     },
     "execution_count": 379,
     "metadata": {},
     "output_type": "execute_result"
    }
   ],
   "source": [
    "df.head()"
   ]
  },
  {
   "cell_type": "code",
   "execution_count": 380,
   "metadata": {},
   "outputs": [
    {
     "data": {
      "text/plain": [
       "{'Responsibility': 0.2597771280877929,\n",
       " 'Requirement': 0.23448158976314562,\n",
       " 'SoftSkill': 0.15891275793398585,\n",
       " 'Experience': 0.15306554806999703,\n",
       " 'Skill': 0.11613914664632854,\n",
       " 'Education': 0.07762382949875005}"
      ]
     },
     "execution_count": 380,
     "metadata": {},
     "output_type": "execute_result"
    }
   ],
   "source": [
    "# calculate class probabilities in the train data\n",
    "prior=train_df['Type'].value_counts()/train_df.shape[0]\n",
    "#convert into a dictionary\n",
    "prior=prior.to_dict()\n",
    "prior"
   ]
  },
  {
   "cell_type": "code",
   "execution_count": 381,
   "metadata": {},
   "outputs": [],
   "source": [
    "#build a nested dictionary to store the conditional probabilitiess\n",
    "#keys are the classes\n",
    "#values are dictionaries with keys as the words and values as the count of the words in the class\n",
    "def calculate_likelihoods(train_df,prior,alpha=0):\n",
    "    likelihoods={}\n",
    "    for c in prior.keys():\n",
    "        likelihoods[c]={}\n",
    "        for sentence in train_df[train_df['Type']==c]['New_Sentence']:\n",
    "            # sentence=sentence.lower()\n",
    "            # import re\n",
    "            # words=set(re.findall(r'\\w+',sentence))\n",
    "            #remove stop words\n",
    "            # from nltk.corpus import stopwords\n",
    "            # stop_words=set(stopwords.words('english'))\n",
    "            # words=[word for word in words if word not in stop_words]\n",
    "            for word in set(sentence.split()):\n",
    "                #add the word to the dictionary with count 1 if it is not present\n",
    "                #else increment the count by 1\n",
    "                likelihoods[c][word]=likelihoods[c].get(word,0)+1\n",
    "    #remove the words with count less than 3\n",
    "    # for c in likelihoods.keys():\n",
    "    #     likelihoods[c]={k:v for k,v in likelihoods[c].items() if v>=3}\n",
    "    #convert the counts into probabilities\n",
    "    for c in likelihoods.keys():\n",
    "        total_count=sum(likelihoods[c].values())\n",
    "        # print(\"Total number of words in class \",c,\" is \",total_count)\n",
    "        for word in likelihoods[c].keys():\n",
    "            #add alpha to the count to avoid zero probabilities\n",
    "            likelihoods[c][word]=(likelihoods[c][word]+alpha)/(total_count+alpha*len(likelihoods[c].keys()))\n",
    "    return likelihoods"
   ]
  },
  {
   "cell_type": "code",
   "execution_count": 382,
   "metadata": {},
   "outputs": [],
   "source": [
    "likelihoods=calculate_likelihoods(train_df,prior,alpha=0)"
   ]
  },
  {
   "cell_type": "code",
   "execution_count": 383,
   "metadata": {},
   "outputs": [
    {
     "name": "stdout",
     "output_type": "stream",
     "text": [
      "Accuracy of the model is:  0.5435593220338983\n"
     ]
    }
   ],
   "source": [
    "#function to predict the class of a sentence\n",
    "\n",
    "def predict(sentence,alpha=0):\n",
    "    #split the sentence into words\n",
    "    words=sentence.split()\n",
    "    #initialize the class probabilities\n",
    "    class_probabilities={}\n",
    "    #iterate over all the classes\n",
    "    for c in prior.keys():\n",
    "        #initialize the class probability with the prior probability of the class\n",
    "        class_probabilities[c]=prior[c]\n",
    "        #iterate over all the words in the sentence\n",
    "        for word in words:\n",
    "            #if the word is present in the class, multiply the class probability\n",
    "            #with the conditional probability of the word given the class\n",
    "            if word in likelihoods[c].keys():\n",
    "                class_probabilities[c]*=likelihoods[c][word]\n",
    "            else:\n",
    "                #multiply with zero\n",
    "                class_probabilities[c]*=alpha/(sum(likelihoods[c].values())+alpha*len(likelihoods[c].keys()))\n",
    "    #return the class with the maximum probability\n",
    "    return max(class_probabilities,key=class_probabilities.get)\n",
    "\n",
    "#predict the class of the test data\n",
    "test['Predicted']=test['New_Sentence'].apply(predict)\n",
    "\n",
    "#calculate the accuracy\n",
    "\n",
    "accuracy=(test['Type']==test['Predicted']).sum()/test.shape[0]\n",
    "\n",
    "print(\"Accuracy of the model is: \",accuracy)"
   ]
  },
  {
   "cell_type": "markdown",
   "metadata": {},
   "source": [
    "Apply Laplace Smoothing to the Naive Bayes Classifier"
   ]
  },
  {
   "cell_type": "code",
   "execution_count": 384,
   "metadata": {},
   "outputs": [
    {
     "name": "stdout",
     "output_type": "stream",
     "text": [
      "Accuracy of the model with alpha  0  is  0.54\n",
      "Accuracy of the model with alpha  1  is  0.61\n",
      "Accuracy of the model with alpha  5  is  0.6\n",
      "Accuracy of the model with alpha  10  is  0.58\n",
      "Accuracy of the model with alpha  50  is  0.43\n",
      "Accuracy of the model with alpha  100  is  0.36\n",
      "Accuracy of the model with alpha  1000  is  0.17\n"
     ]
    }
   ],
   "source": [
    "#apply different values of alpha and compare the accuracies\n",
    "accuracies=[]\n",
    "alphas=[0,1,5,10,50,100,1000]\n",
    "for alpha in alphas:\n",
    "    likelihoods=calculate_likelihoods(train_df,prior,alpha)\n",
    "    test['Predicted']=test['New_Sentence'].apply(predict,alpha=alpha)\n",
    "    accuracy=(test['Type']==test['Predicted']).sum()/test.shape[0]\n",
    "    accuracies.append(accuracy)\n",
    "    print(\"Accuracy of the model with alpha \",alpha,\" is \",round(accuracy,2))"
   ]
  },
  {
   "cell_type": "code",
   "execution_count": 385,
   "metadata": {},
   "outputs": [
    {
     "data": {
      "image/png": "[encoded data removed]",
      "text/plain": [
       "<Figure size 432x288 with 1 Axes>"
      ]
     },
     "metadata": {
      "needs_background": "light"
     },
     "output_type": "display_data"
    }
   ],
   "source": [
    "# #plot alpha vs accuracy\n",
    "\n",
    "import matplotlib.pyplot as plt\n",
    "plt.plot(alphas,accuracies)\n",
    "plt.xlabel('alpha')\n",
    "plt.ylabel('accuracy')\n",
    "plt.title('alpha vs accuracy')\n",
    "plt.show()\n"
   ]
  },
  {
   "cell_type": "markdown",
   "metadata": {},
   "source": [
    "Top 10 words that predict each class\n"
   ]
  },
  {
   "cell_type": "code",
   "execution_count": 386,
   "metadata": {},
   "outputs": [
    {
     "name": "stdout",
     "output_type": "stream",
     "text": [
      "Top 10 words in class  Responsibility  are: \n",
      "['and', 'to', 'the', 'of', 'with', 'for', 'in', 'a', 'will', 'on']\n",
      "\n",
      "Top 10 words in class  Requirement  are: \n",
      "['and', 'to', 'in', 'of', 'with', 'a', 'experience', 'the', 'Experience', 'or']\n",
      "\n",
      "Top 10 words in class  SoftSkill  are: \n",
      "['and', 'to', 'with', 'in', 'a', 'skills.', 'skills', 'communication', '.', 'of']\n",
      "\n",
      "Top 10 words in class  Experience  are: \n",
      "['years', 'of', 'experience', 'in', 'and', 'with', 'or', 'a', 'experience.', 'Minimum']\n",
      "\n",
      "Top 10 words in class  Skill  are: \n",
      "['and', 'in', 'of', 'with', 'Experience', 'experience', '.', 'to', 'a', 'knowledge']\n",
      "\n",
      "Top 10 words in class  Education  are: \n",
      "['in', 'or', 'degree', 'Bachelors', 'Degree', 'Engineering', 'a', '.', 'Computer', 'of']\n",
      "\n"
     ]
    }
   ],
   "source": [
    "for cls in likelihoods.keys():\n",
    "    print(\"Top 10 words in class \",cls,\" are: \")\n",
    "    words=[word[0] for word in sorted(likelihoods[cls].items(),key=lambda x:x[1],reverse=True)[:10]]"
   ]
  },
  {
   "cell_type": "code",
   "execution_count": 387,
   "metadata": {},
   "outputs": [
    {
     "data": {
      "text/html": [
       "<div>\n",
       "<style scoped>\n",
       "    .dataframe tbody tr th:only-of-type {\n",
       "        vertical-align: middle;\n",
       "    }\n",
       "\n",
       "    .dataframe tbody tr th {\n",
       "        vertical-align: top;\n",
       "    }\n",
       "\n",
       "    .dataframe thead th {\n",
       "        text-align: right;\n",
       "    }\n",
       "</style>\n",
       "<table border=\"1\" class=\"dataframe\">\n",
       "  <thead>\n",
       "    <tr style=\"text-align: right;\">\n",
       "      <th></th>\n",
       "      <th>Sentence_id</th>\n",
       "      <th>New_Sentence</th>\n",
       "    </tr>\n",
       "  </thead>\n",
       "  <tbody>\n",
       "    <tr>\n",
       "      <th>0</th>\n",
       "      <td>UAERES16346</td>\n",
       "      <td>Collaborate across all of DB&amp;T practices and o...</td>\n",
       "    </tr>\n",
       "    <tr>\n",
       "      <th>1</th>\n",
       "      <td>COGREQ15586</td>\n",
       "      <td>Strong  technology expertise in Identity and A...</td>\n",
       "    </tr>\n",
       "    <tr>\n",
       "      <th>2</th>\n",
       "      <td>UAEREQ12722</td>\n",
       "      <td>Strong knowledge on Service  Virtualization.</td>\n",
       "    </tr>\n",
       "    <tr>\n",
       "      <th>3</th>\n",
       "      <td>COGSKL29155</td>\n",
       "      <td>Architect scalable data processing and analyti...</td>\n",
       "    </tr>\n",
       "    <tr>\n",
       "      <th>4</th>\n",
       "      <td>PHERES12551</td>\n",
       "      <td>Map client organization, build outstanding rel...</td>\n",
       "    </tr>\n",
       "  </tbody>\n",
       "</table>\n",
       "</div>"
      ],
      "text/plain": [
       "   Sentence_id                                       New_Sentence\n",
       "0  UAERES16346  Collaborate across all of DB&T practices and o...\n",
       "1  COGREQ15586  Strong  technology expertise in Identity and A...\n",
       "2  UAEREQ12722       Strong knowledge on Service  Virtualization.\n",
       "3  COGSKL29155  Architect scalable data processing and analyti...\n",
       "4  PHERES12551  Map client organization, build outstanding rel..."
      ]
     },
     "execution_count": 387,
     "metadata": {},
     "output_type": "execute_result"
    }
   ],
   "source": [
    "#load test_data.csv and predict the classes of the sentences and save\n",
    "\n",
    "test_data=pd.read_csv('test_data.csv',index_col=0)\n",
    "test_data.head()"
   ]
  },
  {
   "cell_type": "code",
   "execution_count": 388,
   "metadata": {},
   "outputs": [],
   "source": [
    "test_data.dropna(inplace=True)"
   ]
  },
  {
   "cell_type": "code",
   "execution_count": 389,
   "metadata": {},
   "outputs": [],
   "source": [
    "test_data['Predicted']=test_data['New_Sentence'].apply(predict)"
   ]
  },
  {
   "cell_type": "code",
   "execution_count": 390,
   "metadata": {},
   "outputs": [
    {
     "data": {
      "text/html": [
       "<div>\n",
       "<style scoped>\n",
       "    .dataframe tbody tr th:only-of-type {\n",
       "        vertical-align: middle;\n",
       "    }\n",
       "\n",
       "    .dataframe tbody tr th {\n",
       "        vertical-align: top;\n",
       "    }\n",
       "\n",
       "    .dataframe thead th {\n",
       "        text-align: right;\n",
       "    }\n",
       "</style>\n",
       "<table border=\"1\" class=\"dataframe\">\n",
       "  <thead>\n",
       "    <tr style=\"text-align: right;\">\n",
       "      <th></th>\n",
       "      <th>Sentence_id</th>\n",
       "      <th>New_Sentence</th>\n",
       "      <th>Predicted</th>\n",
       "    </tr>\n",
       "  </thead>\n",
       "  <tbody>\n",
       "    <tr>\n",
       "      <th>0</th>\n",
       "      <td>UAERES16346</td>\n",
       "      <td>Collaborate across all of DB&amp;T practices and o...</td>\n",
       "      <td>Responsibility</td>\n",
       "    </tr>\n",
       "    <tr>\n",
       "      <th>1</th>\n",
       "      <td>COGREQ15586</td>\n",
       "      <td>Strong  technology expertise in Identity and A...</td>\n",
       "      <td>Experience</td>\n",
       "    </tr>\n",
       "    <tr>\n",
       "      <th>2</th>\n",
       "      <td>UAEREQ12722</td>\n",
       "      <td>Strong knowledge on Service  Virtualization.</td>\n",
       "      <td>Experience</td>\n",
       "    </tr>\n",
       "    <tr>\n",
       "      <th>3</th>\n",
       "      <td>COGSKL29155</td>\n",
       "      <td>Architect scalable data processing and analyti...</td>\n",
       "      <td>Experience</td>\n",
       "    </tr>\n",
       "    <tr>\n",
       "      <th>4</th>\n",
       "      <td>PHERES12551</td>\n",
       "      <td>Map client organization, build outstanding rel...</td>\n",
       "      <td>Responsibility</td>\n",
       "    </tr>\n",
       "  </tbody>\n",
       "</table>\n",
       "</div>"
      ],
      "text/plain": [
       "   Sentence_id                                       New_Sentence  \\\n",
       "0  UAERES16346  Collaborate across all of DB&T practices and o...   \n",
       "1  COGREQ15586  Strong  technology expertise in Identity and A...   \n",
       "2  UAEREQ12722       Strong knowledge on Service  Virtualization.   \n",
       "3  COGSKL29155  Architect scalable data processing and analyti...   \n",
       "4  PHERES12551  Map client organization, build outstanding rel...   \n",
       "\n",
       "        Predicted  \n",
       "0  Responsibility  \n",
       "1      Experience  \n",
       "2      Experience  \n",
       "3      Experience  \n",
       "4  Responsibility  "
      ]
     },
     "execution_count": 390,
     "metadata": {},
     "output_type": "execute_result"
    }
   ],
   "source": [
    "test_data.head()"
   ]
  },
  {
   "cell_type": "code",
   "execution_count": 391,
   "metadata": {},
   "outputs": [],
   "source": [
    "#save the predictions\n",
    "\n",
    "test_data.to_csv('predictions.csv')"
   ]
  }
 ],
 "metadata": {
  "kernelspec": {
   "display_name": "Python 3 (ipykernel)",
   "language": "python",
   "name": "python3"
  },
  "language_info": {
   "codemirror_mode": {
    "name": "ipython",
    "version": 3
   },
   "file_extension": ".py",
   "mimetype": "text/x-python",
   "name": "python",
   "nbconvert_exporter": "python",
   "pygments_lexer": "ipython3",
   "version": "3.9.12"
  },
  "vscode": {
   "interpreter": {
    "hash": "7f310d7e0f223ed1243083501ac25eecd2fc44a8e4063ab2bd081dbe5fedb3c8"
   }
  }
 },
 "nbformat": 4,
 "nbformat_minor": 2
}
